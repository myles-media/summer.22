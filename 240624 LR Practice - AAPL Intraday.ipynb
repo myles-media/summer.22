{
 "cells": [
  {
   "cell_type": "code",
   "execution_count": 29,
   "id": "dfe55595",
   "metadata": {},
   "outputs": [],
   "source": [
    "# print all the outputs in a cell\n",
    "from IPython.core.interactiveshell import InteractiveShell\n",
    "InteractiveShell.ast_node_interactivity = \"all\"\n",
    "\n",
    "import pandas as pd\n",
    "import numpy as np\n",
    "import seaborn as sns\n",
    "import matplotlib.pyplot as plt\n",
    "%matplotlib inline\n",
    "\n",
    "import sklearn as sk\n",
    "from sklearn import linear_model\n",
    "\n",
    "import tensorflow as tf"
   ]
  },
  {
   "cell_type": "code",
   "execution_count": 6,
   "id": "a9c2cb65",
   "metadata": {},
   "outputs": [
    {
     "data": {
      "text/html": [
       "<div>\n",
       "<style scoped>\n",
       "    .dataframe tbody tr th:only-of-type {\n",
       "        vertical-align: middle;\n",
       "    }\n",
       "\n",
       "    .dataframe tbody tr th {\n",
       "        vertical-align: top;\n",
       "    }\n",
       "\n",
       "    .dataframe thead th {\n",
       "        text-align: right;\n",
       "    }\n",
       "</style>\n",
       "<table border=\"1\" class=\"dataframe\">\n",
       "  <thead>\n",
       "    <tr style=\"text-align: right;\">\n",
       "      <th></th>\n",
       "      <th>Dates</th>\n",
       "      <th>Last Price</th>\n",
       "      <th>Bid Price</th>\n",
       "      <th>Ask Price</th>\n",
       "      <th>Bid-Ask Spread</th>\n",
       "      <th>Volume</th>\n",
       "      <th>Turnover</th>\n",
       "    </tr>\n",
       "  </thead>\n",
       "  <tbody>\n",
       "    <tr>\n",
       "      <th>0</th>\n",
       "      <td>2024-05-01 09:30:00</td>\n",
       "      <td>170.000</td>\n",
       "      <td>169.94</td>\n",
       "      <td>170.05</td>\n",
       "      <td>0.11</td>\n",
       "      <td>704606.0</td>\n",
       "      <td>119685384.0</td>\n",
       "    </tr>\n",
       "    <tr>\n",
       "      <th>1</th>\n",
       "      <td>2024-05-01 09:31:00</td>\n",
       "      <td>169.770</td>\n",
       "      <td>169.98</td>\n",
       "      <td>170.05</td>\n",
       "      <td>0.07</td>\n",
       "      <td>194725.0</td>\n",
       "      <td>33083506.0</td>\n",
       "    </tr>\n",
       "    <tr>\n",
       "      <th>2</th>\n",
       "      <td>2024-05-01 09:32:00</td>\n",
       "      <td>169.620</td>\n",
       "      <td>169.98</td>\n",
       "      <td>170.07</td>\n",
       "      <td>0.09</td>\n",
       "      <td>110680.0</td>\n",
       "      <td>18798334.0</td>\n",
       "    </tr>\n",
       "    <tr>\n",
       "      <th>3</th>\n",
       "      <td>2024-05-01 09:33:00</td>\n",
       "      <td>169.350</td>\n",
       "      <td>169.98</td>\n",
       "      <td>170.07</td>\n",
       "      <td>0.09</td>\n",
       "      <td>203403.0</td>\n",
       "      <td>34494664.0</td>\n",
       "    </tr>\n",
       "    <tr>\n",
       "      <th>4</th>\n",
       "      <td>2024-05-01 09:34:00</td>\n",
       "      <td>169.115</td>\n",
       "      <td>170.00</td>\n",
       "      <td>169.80</td>\n",
       "      <td>-0.20</td>\n",
       "      <td>254573.0</td>\n",
       "      <td>43094548.0</td>\n",
       "    </tr>\n",
       "  </tbody>\n",
       "</table>\n",
       "</div>"
      ],
      "text/plain": [
       "                Dates  Last Price  Bid Price  Ask Price  Bid-Ask Spread  \\\n",
       "0 2024-05-01 09:30:00     170.000     169.94     170.05            0.11   \n",
       "1 2024-05-01 09:31:00     169.770     169.98     170.05            0.07   \n",
       "2 2024-05-01 09:32:00     169.620     169.98     170.07            0.09   \n",
       "3 2024-05-01 09:33:00     169.350     169.98     170.07            0.09   \n",
       "4 2024-05-01 09:34:00     169.115     170.00     169.80           -0.20   \n",
       "\n",
       "     Volume     Turnover  \n",
       "0  704606.0  119685384.0  \n",
       "1  194725.0   33083506.0  \n",
       "2  110680.0   18798334.0  \n",
       "3  203403.0   34494664.0  \n",
       "4  254573.0   43094548.0  "
      ]
     },
     "execution_count": 6,
     "metadata": {},
     "output_type": "execute_result"
    }
   ],
   "source": [
    "#data starts from 05-01-2024. \n",
    "\n",
    "df = pd.read_excel('AAPL_Intraday_Data.xlsx')\n",
    "df.head()\n",
    "\n"
   ]
  },
  {
   "cell_type": "code",
   "execution_count": 7,
   "id": "5049bcb5",
   "metadata": {},
   "outputs": [
    {
     "data": {
      "text/html": [
       "<div>\n",
       "<style scoped>\n",
       "    .dataframe tbody tr th:only-of-type {\n",
       "        vertical-align: middle;\n",
       "    }\n",
       "\n",
       "    .dataframe tbody tr th {\n",
       "        vertical-align: top;\n",
       "    }\n",
       "\n",
       "    .dataframe thead th {\n",
       "        text-align: right;\n",
       "    }\n",
       "</style>\n",
       "<table border=\"1\" class=\"dataframe\">\n",
       "  <thead>\n",
       "    <tr style=\"text-align: right;\">\n",
       "      <th></th>\n",
       "      <th>Dates</th>\n",
       "      <th>Last Price</th>\n",
       "      <th>Bid Price</th>\n",
       "      <th>Ask Price</th>\n",
       "      <th>Bid-Ask Spread</th>\n",
       "      <th>Volume</th>\n",
       "      <th>Turnover</th>\n",
       "    </tr>\n",
       "  </thead>\n",
       "  <tbody>\n",
       "    <tr>\n",
       "      <th>32090</th>\n",
       "      <td>NaT</td>\n",
       "      <td>NaN</td>\n",
       "      <td>NaN</td>\n",
       "      <td>207.27</td>\n",
       "      <td>207.27</td>\n",
       "      <td>NaN</td>\n",
       "      <td>NaN</td>\n",
       "    </tr>\n",
       "    <tr>\n",
       "      <th>32091</th>\n",
       "      <td>NaT</td>\n",
       "      <td>NaN</td>\n",
       "      <td>NaN</td>\n",
       "      <td>207.22</td>\n",
       "      <td>207.22</td>\n",
       "      <td>NaN</td>\n",
       "      <td>NaN</td>\n",
       "    </tr>\n",
       "    <tr>\n",
       "      <th>32092</th>\n",
       "      <td>NaT</td>\n",
       "      <td>NaN</td>\n",
       "      <td>NaN</td>\n",
       "      <td>207.22</td>\n",
       "      <td>207.22</td>\n",
       "      <td>NaN</td>\n",
       "      <td>NaN</td>\n",
       "    </tr>\n",
       "    <tr>\n",
       "      <th>32093</th>\n",
       "      <td>NaT</td>\n",
       "      <td>NaN</td>\n",
       "      <td>NaN</td>\n",
       "      <td>207.21</td>\n",
       "      <td>207.21</td>\n",
       "      <td>NaN</td>\n",
       "      <td>NaN</td>\n",
       "    </tr>\n",
       "    <tr>\n",
       "      <th>32094</th>\n",
       "      <td>NaT</td>\n",
       "      <td>NaN</td>\n",
       "      <td>NaN</td>\n",
       "      <td>207.30</td>\n",
       "      <td>207.30</td>\n",
       "      <td>NaN</td>\n",
       "      <td>NaN</td>\n",
       "    </tr>\n",
       "  </tbody>\n",
       "</table>\n",
       "</div>"
      ],
      "text/plain": [
       "      Dates  Last Price  Bid Price  Ask Price  Bid-Ask Spread  Volume  \\\n",
       "32090   NaT         NaN        NaN     207.27          207.27     NaN   \n",
       "32091   NaT         NaN        NaN     207.22          207.22     NaN   \n",
       "32092   NaT         NaN        NaN     207.22          207.22     NaN   \n",
       "32093   NaT         NaN        NaN     207.21          207.21     NaN   \n",
       "32094   NaT         NaN        NaN     207.30          207.30     NaN   \n",
       "\n",
       "       Turnover  \n",
       "32090       NaN  \n",
       "32091       NaN  \n",
       "32092       NaN  \n",
       "32093       NaN  \n",
       "32094       NaN  "
      ]
     },
     "execution_count": 7,
     "metadata": {},
     "output_type": "execute_result"
    }
   ],
   "source": [
    "#CHECK TO SEE IF THERE IS ANYTHING WRONG\n",
    "#results show some NaT and NaN values\n",
    "#should look into this when cleaning data\n",
    "df.tail()"
   ]
  },
  {
   "cell_type": "code",
   "execution_count": 8,
   "id": "7b05b938",
   "metadata": {},
   "outputs": [
    {
     "name": "stdout",
     "output_type": "stream",
     "text": [
      "Dates             datetime64[ns]\n",
      "Last Price               float64\n",
      "Bid Price                float64\n",
      "Ask Price                float64\n",
      "Bid-Ask Spread           float64\n",
      "Volume                   float64\n",
      "Turnover                 float64\n",
      "dtype: object\n"
     ]
    }
   ],
   "source": [
    "#notice how the data type is datetime64 and float64\n",
    "#all of them should be fine(?)\n",
    "print(df.dtypes)"
   ]
  },
  {
   "cell_type": "code",
   "execution_count": 9,
   "id": "a4af080c",
   "metadata": {},
   "outputs": [],
   "source": [
    "#change the name of the columns for easier access/read\n",
    "df.columns = [\n",
    "    'DATES',\n",
    "    'PRICE',\n",
    "    'BID',\n",
    "    'ASK',\n",
    "    'SPREAD',\n",
    "    'VOLUME',\n",
    "    'TURNOVER'\n",
    "]"
   ]
  },
  {
   "cell_type": "markdown",
   "id": "1aef5a6f",
   "metadata": {},
   "source": [
    "### Linear Regression\n",
    "#### Y = what we are looking for. \n",
    "Looking for predicted price of AAPL for the next day\n",
    "\n",
    "AAPL opened at $207.72 on 6/24/2024"
   ]
  },
  {
   "cell_type": "code",
   "execution_count": 10,
   "id": "ff30e5df",
   "metadata": {},
   "outputs": [],
   "source": [
    "#attempt with the implications of predicted stock price for each (run 7 models)\n",
    "\n",
    "Y = df['PRICE']\n",
    "X = df[['BID','ASK','SPREAD','VOLUME','TURNOVER']]"
   ]
  },
  {
   "cell_type": "code",
   "execution_count": 11,
   "id": "87a8c01e",
   "metadata": {},
   "outputs": [
    {
     "data": {
      "text/html": [
       "<div>\n",
       "<style scoped>\n",
       "    .dataframe tbody tr th:only-of-type {\n",
       "        vertical-align: middle;\n",
       "    }\n",
       "\n",
       "    .dataframe tbody tr th {\n",
       "        vertical-align: top;\n",
       "    }\n",
       "\n",
       "    .dataframe thead th {\n",
       "        text-align: right;\n",
       "    }\n",
       "</style>\n",
       "<table border=\"1\" class=\"dataframe\">\n",
       "  <thead>\n",
       "    <tr style=\"text-align: right;\">\n",
       "      <th></th>\n",
       "      <th>PRICE</th>\n",
       "      <th>BID</th>\n",
       "      <th>ASK</th>\n",
       "      <th>SPREAD</th>\n",
       "      <th>VOLUME</th>\n",
       "      <th>TURNOVER</th>\n",
       "    </tr>\n",
       "  </thead>\n",
       "  <tbody>\n",
       "    <tr>\n",
       "      <th>count</th>\n",
       "      <td>14090.000000</td>\n",
       "      <td>31901.000000</td>\n",
       "      <td>32095.000000</td>\n",
       "      <td>32095.000000</td>\n",
       "      <td>1.409000e+04</td>\n",
       "      <td>1.409000e+04</td>\n",
       "    </tr>\n",
       "    <tr>\n",
       "      <th>mean</th>\n",
       "      <td>193.653786</td>\n",
       "      <td>193.765112</td>\n",
       "      <td>193.785265</td>\n",
       "      <td>1.191377</td>\n",
       "      <td>1.457984e+05</td>\n",
       "      <td>2.871314e+07</td>\n",
       "    </tr>\n",
       "    <tr>\n",
       "      <th>std</th>\n",
       "      <td>11.560946</td>\n",
       "      <td>11.441971</td>\n",
       "      <td>11.401349</td>\n",
       "      <td>16.165544</td>\n",
       "      <td>1.012050e+06</td>\n",
       "      <td>2.077106e+08</td>\n",
       "    </tr>\n",
       "    <tr>\n",
       "      <th>min</th>\n",
       "      <td>169.115000</td>\n",
       "      <td>169.100000</td>\n",
       "      <td>169.130000</td>\n",
       "      <td>-12.250000</td>\n",
       "      <td>0.000000e+00</td>\n",
       "      <td>0.000000e+00</td>\n",
       "    </tr>\n",
       "    <tr>\n",
       "      <th>25%</th>\n",
       "      <td>186.760000</td>\n",
       "      <td>186.720000</td>\n",
       "      <td>186.750000</td>\n",
       "      <td>-0.340000</td>\n",
       "      <td>4.763600e+04</td>\n",
       "      <td>9.034876e+06</td>\n",
       "    </tr>\n",
       "    <tr>\n",
       "      <th>50%</th>\n",
       "      <td>191.380000</td>\n",
       "      <td>191.260000</td>\n",
       "      <td>191.300000</td>\n",
       "      <td>0.030000</td>\n",
       "      <td>7.581550e+04</td>\n",
       "      <td>1.459399e+07</td>\n",
       "    </tr>\n",
       "    <tr>\n",
       "      <th>75%</th>\n",
       "      <td>196.010000</td>\n",
       "      <td>196.080000</td>\n",
       "      <td>196.030000</td>\n",
       "      <td>0.360000</td>\n",
       "      <td>1.310178e+05</td>\n",
       "      <td>2.558792e+07</td>\n",
       "    </tr>\n",
       "    <tr>\n",
       "      <th>max</th>\n",
       "      <td>220.058000</td>\n",
       "      <td>220.050000</td>\n",
       "      <td>220.080000</td>\n",
       "      <td>207.840000</td>\n",
       "      <td>1.066871e+08</td>\n",
       "      <td>2.213760e+10</td>\n",
       "    </tr>\n",
       "  </tbody>\n",
       "</table>\n",
       "</div>"
      ],
      "text/plain": [
       "              PRICE           BID           ASK        SPREAD        VOLUME  \\\n",
       "count  14090.000000  31901.000000  32095.000000  32095.000000  1.409000e+04   \n",
       "mean     193.653786    193.765112    193.785265      1.191377  1.457984e+05   \n",
       "std       11.560946     11.441971     11.401349     16.165544  1.012050e+06   \n",
       "min      169.115000    169.100000    169.130000    -12.250000  0.000000e+00   \n",
       "25%      186.760000    186.720000    186.750000     -0.340000  4.763600e+04   \n",
       "50%      191.380000    191.260000    191.300000      0.030000  7.581550e+04   \n",
       "75%      196.010000    196.080000    196.030000      0.360000  1.310178e+05   \n",
       "max      220.058000    220.050000    220.080000    207.840000  1.066871e+08   \n",
       "\n",
       "           TURNOVER  \n",
       "count  1.409000e+04  \n",
       "mean   2.871314e+07  \n",
       "std    2.077106e+08  \n",
       "min    0.000000e+00  \n",
       "25%    9.034876e+06  \n",
       "50%    1.459399e+07  \n",
       "75%    2.558792e+07  \n",
       "max    2.213760e+10  "
      ]
     },
     "execution_count": 11,
     "metadata": {},
     "output_type": "execute_result"
    }
   ],
   "source": [
    "data = pd.concat([Y,X],axis=1)\n",
    "data.describe()"
   ]
  },
  {
   "cell_type": "code",
   "execution_count": 12,
   "id": "6c42ec38",
   "metadata": {},
   "outputs": [],
   "source": [
    "#use mean of stocks to fill NaN values\n",
    "# Fill NaN values with the mean of the column\n",
    "data_clean = data.dropna(subset = ['PRICE'])"
   ]
  },
  {
   "cell_type": "code",
   "execution_count": 13,
   "id": "41a08c6f",
   "metadata": {},
   "outputs": [
    {
     "data": {
      "text/html": [
       "<div>\n",
       "<style scoped>\n",
       "    .dataframe tbody tr th:only-of-type {\n",
       "        vertical-align: middle;\n",
       "    }\n",
       "\n",
       "    .dataframe tbody tr th {\n",
       "        vertical-align: top;\n",
       "    }\n",
       "\n",
       "    .dataframe thead th {\n",
       "        text-align: right;\n",
       "    }\n",
       "</style>\n",
       "<table border=\"1\" class=\"dataframe\">\n",
       "  <thead>\n",
       "    <tr style=\"text-align: right;\">\n",
       "      <th></th>\n",
       "      <th>PRICE</th>\n",
       "      <th>BID</th>\n",
       "      <th>ASK</th>\n",
       "      <th>SPREAD</th>\n",
       "      <th>VOLUME</th>\n",
       "      <th>TURNOVER</th>\n",
       "    </tr>\n",
       "  </thead>\n",
       "  <tbody>\n",
       "    <tr>\n",
       "      <th>count</th>\n",
       "      <td>14090.000000</td>\n",
       "      <td>14090.000000</td>\n",
       "      <td>14090.000000</td>\n",
       "      <td>14090.000000</td>\n",
       "      <td>1.409000e+04</td>\n",
       "      <td>1.409000e+04</td>\n",
       "    </tr>\n",
       "    <tr>\n",
       "      <th>mean</th>\n",
       "      <td>193.653786</td>\n",
       "      <td>185.129803</td>\n",
       "      <td>185.162511</td>\n",
       "      <td>0.032708</td>\n",
       "      <td>1.457984e+05</td>\n",
       "      <td>2.871314e+07</td>\n",
       "    </tr>\n",
       "    <tr>\n",
       "      <th>std</th>\n",
       "      <td>11.560946</td>\n",
       "      <td>5.791221</td>\n",
       "      <td>5.777881</td>\n",
       "      <td>0.393016</td>\n",
       "      <td>1.012050e+06</td>\n",
       "      <td>2.077106e+08</td>\n",
       "    </tr>\n",
       "    <tr>\n",
       "      <th>min</th>\n",
       "      <td>169.115000</td>\n",
       "      <td>169.100000</td>\n",
       "      <td>169.130000</td>\n",
       "      <td>-2.620000</td>\n",
       "      <td>0.000000e+00</td>\n",
       "      <td>0.000000e+00</td>\n",
       "    </tr>\n",
       "    <tr>\n",
       "      <th>25%</th>\n",
       "      <td>186.760000</td>\n",
       "      <td>182.550000</td>\n",
       "      <td>182.600000</td>\n",
       "      <td>-0.110000</td>\n",
       "      <td>4.763600e+04</td>\n",
       "      <td>9.034876e+06</td>\n",
       "    </tr>\n",
       "    <tr>\n",
       "      <th>50%</th>\n",
       "      <td>191.380000</td>\n",
       "      <td>185.200000</td>\n",
       "      <td>185.140000</td>\n",
       "      <td>0.040000</td>\n",
       "      <td>7.581550e+04</td>\n",
       "      <td>1.459399e+07</td>\n",
       "    </tr>\n",
       "    <tr>\n",
       "      <th>75%</th>\n",
       "      <td>196.010000</td>\n",
       "      <td>189.940000</td>\n",
       "      <td>189.970000</td>\n",
       "      <td>0.170000</td>\n",
       "      <td>1.310178e+05</td>\n",
       "      <td>2.558792e+07</td>\n",
       "    </tr>\n",
       "    <tr>\n",
       "      <th>max</th>\n",
       "      <td>220.058000</td>\n",
       "      <td>192.750000</td>\n",
       "      <td>192.760000</td>\n",
       "      <td>6.180000</td>\n",
       "      <td>1.066871e+08</td>\n",
       "      <td>2.213760e+10</td>\n",
       "    </tr>\n",
       "  </tbody>\n",
       "</table>\n",
       "</div>"
      ],
      "text/plain": [
       "              PRICE           BID           ASK        SPREAD        VOLUME  \\\n",
       "count  14090.000000  14090.000000  14090.000000  14090.000000  1.409000e+04   \n",
       "mean     193.653786    185.129803    185.162511      0.032708  1.457984e+05   \n",
       "std       11.560946      5.791221      5.777881      0.393016  1.012050e+06   \n",
       "min      169.115000    169.100000    169.130000     -2.620000  0.000000e+00   \n",
       "25%      186.760000    182.550000    182.600000     -0.110000  4.763600e+04   \n",
       "50%      191.380000    185.200000    185.140000      0.040000  7.581550e+04   \n",
       "75%      196.010000    189.940000    189.970000      0.170000  1.310178e+05   \n",
       "max      220.058000    192.750000    192.760000      6.180000  1.066871e+08   \n",
       "\n",
       "           TURNOVER  \n",
       "count  1.409000e+04  \n",
       "mean   2.871314e+07  \n",
       "std    2.077106e+08  \n",
       "min    0.000000e+00  \n",
       "25%    9.034876e+06  \n",
       "50%    1.459399e+07  \n",
       "75%    2.558792e+07  \n",
       "max    2.213760e+10  "
      ]
     },
     "execution_count": 13,
     "metadata": {},
     "output_type": "execute_result"
    }
   ],
   "source": [
    "#this is showing me that I dropped more than half my data in the case where I drop NA values\n",
    "#HOWEVER, there should be about 14000 data considering this is an accumulation of 36ish days of trading.\n",
    "#making the dropna VALID!\n",
    "data_clean.describe()"
   ]
  },
  {
   "cell_type": "code",
   "execution_count": 14,
   "id": "210f4ba5",
   "metadata": {},
   "outputs": [],
   "source": [
    "#reassign X and Y to the new columns with no NaNs\n",
    "\n",
    "Y = data_clean['PRICE']\n",
    "X = data_clean[['BID','ASK','SPREAD','VOLUME','TURNOVER']]"
   ]
  },
  {
   "cell_type": "code",
   "execution_count": 15,
   "id": "0a947362",
   "metadata": {},
   "outputs": [
    {
     "data": {
      "text/html": [
       "<div>\n",
       "<style scoped>\n",
       "    .dataframe tbody tr th:only-of-type {\n",
       "        vertical-align: middle;\n",
       "    }\n",
       "\n",
       "    .dataframe tbody tr th {\n",
       "        vertical-align: top;\n",
       "    }\n",
       "\n",
       "    .dataframe thead th {\n",
       "        text-align: right;\n",
       "    }\n",
       "</style>\n",
       "<table border=\"1\" class=\"dataframe\">\n",
       "  <thead>\n",
       "    <tr style=\"text-align: right;\">\n",
       "      <th></th>\n",
       "      <th>PRICE</th>\n",
       "      <th>BID</th>\n",
       "      <th>ASK</th>\n",
       "      <th>SPREAD</th>\n",
       "      <th>VOLUME</th>\n",
       "      <th>TURNOVER</th>\n",
       "    </tr>\n",
       "  </thead>\n",
       "  <tbody>\n",
       "    <tr>\n",
       "      <th>14085</th>\n",
       "      <td>207.795</td>\n",
       "      <td>191.30</td>\n",
       "      <td>190.84</td>\n",
       "      <td>-0.46</td>\n",
       "      <td>1063631.0</td>\n",
       "      <td>2.210122e+08</td>\n",
       "    </tr>\n",
       "    <tr>\n",
       "      <th>14086</th>\n",
       "      <td>208.040</td>\n",
       "      <td>191.40</td>\n",
       "      <td>190.85</td>\n",
       "      <td>-0.55</td>\n",
       "      <td>1376674.0</td>\n",
       "      <td>2.859571e+08</td>\n",
       "    </tr>\n",
       "    <tr>\n",
       "      <th>14087</th>\n",
       "      <td>208.020</td>\n",
       "      <td>191.30</td>\n",
       "      <td>190.84</td>\n",
       "      <td>-0.46</td>\n",
       "      <td>1463390.0</td>\n",
       "      <td>3.046166e+08</td>\n",
       "    </tr>\n",
       "    <tr>\n",
       "      <th>14088</th>\n",
       "      <td>207.490</td>\n",
       "      <td>191.30</td>\n",
       "      <td>190.83</td>\n",
       "      <td>-0.47</td>\n",
       "      <td>106687072.0</td>\n",
       "      <td>2.213760e+10</td>\n",
       "    </tr>\n",
       "    <tr>\n",
       "      <th>14089</th>\n",
       "      <td>207.490</td>\n",
       "      <td>191.32</td>\n",
       "      <td>190.83</td>\n",
       "      <td>-0.49</td>\n",
       "      <td>0.0</td>\n",
       "      <td>0.000000e+00</td>\n",
       "    </tr>\n",
       "  </tbody>\n",
       "</table>\n",
       "</div>"
      ],
      "text/plain": [
       "         PRICE     BID     ASK  SPREAD       VOLUME      TURNOVER\n",
       "14085  207.795  191.30  190.84   -0.46    1063631.0  2.210122e+08\n",
       "14086  208.040  191.40  190.85   -0.55    1376674.0  2.859571e+08\n",
       "14087  208.020  191.30  190.84   -0.46    1463390.0  3.046166e+08\n",
       "14088  207.490  191.30  190.83   -0.47  106687072.0  2.213760e+10\n",
       "14089  207.490  191.32  190.83   -0.49          0.0  0.000000e+00"
      ]
     },
     "execution_count": 15,
     "metadata": {},
     "output_type": "execute_result"
    }
   ],
   "source": [
    "data_clean.tail()"
   ]
  },
  {
   "cell_type": "code",
   "execution_count": 16,
   "id": "62a6e959",
   "metadata": {},
   "outputs": [],
   "source": [
    "from sklearn.model_selection import train_test_split\n",
    "X_train, X_test, y_train, y_test = train_test_split(X, Y, random_state=0)"
   ]
  },
  {
   "cell_type": "code",
   "execution_count": 17,
   "id": "2c70ddc9",
   "metadata": {},
   "outputs": [],
   "source": [
    "from sklearn import linear_model\n",
    "OLS = linear_model.LinearRegression()"
   ]
  },
  {
   "cell_type": "code",
   "execution_count": 18,
   "id": "51d4f98d",
   "metadata": {},
   "outputs": [
    {
     "data": {
      "text/html": [
       "<style>#sk-container-id-1 {color: black;background-color: white;}#sk-container-id-1 pre{padding: 0;}#sk-container-id-1 div.sk-toggleable {background-color: white;}#sk-container-id-1 label.sk-toggleable__label {cursor: pointer;display: block;width: 100%;margin-bottom: 0;padding: 0.3em;box-sizing: border-box;text-align: center;}#sk-container-id-1 label.sk-toggleable__label-arrow:before {content: \"▸\";float: left;margin-right: 0.25em;color: #696969;}#sk-container-id-1 label.sk-toggleable__label-arrow:hover:before {color: black;}#sk-container-id-1 div.sk-estimator:hover label.sk-toggleable__label-arrow:before {color: black;}#sk-container-id-1 div.sk-toggleable__content {max-height: 0;max-width: 0;overflow: hidden;text-align: left;background-color: #f0f8ff;}#sk-container-id-1 div.sk-toggleable__content pre {margin: 0.2em;color: black;border-radius: 0.25em;background-color: #f0f8ff;}#sk-container-id-1 input.sk-toggleable__control:checked~div.sk-toggleable__content {max-height: 200px;max-width: 100%;overflow: auto;}#sk-container-id-1 input.sk-toggleable__control:checked~label.sk-toggleable__label-arrow:before {content: \"▾\";}#sk-container-id-1 div.sk-estimator input.sk-toggleable__control:checked~label.sk-toggleable__label {background-color: #d4ebff;}#sk-container-id-1 div.sk-label input.sk-toggleable__control:checked~label.sk-toggleable__label {background-color: #d4ebff;}#sk-container-id-1 input.sk-hidden--visually {border: 0;clip: rect(1px 1px 1px 1px);clip: rect(1px, 1px, 1px, 1px);height: 1px;margin: -1px;overflow: hidden;padding: 0;position: absolute;width: 1px;}#sk-container-id-1 div.sk-estimator {font-family: monospace;background-color: #f0f8ff;border: 1px dotted black;border-radius: 0.25em;box-sizing: border-box;margin-bottom: 0.5em;}#sk-container-id-1 div.sk-estimator:hover {background-color: #d4ebff;}#sk-container-id-1 div.sk-parallel-item::after {content: \"\";width: 100%;border-bottom: 1px solid gray;flex-grow: 1;}#sk-container-id-1 div.sk-label:hover label.sk-toggleable__label {background-color: #d4ebff;}#sk-container-id-1 div.sk-serial::before {content: \"\";position: absolute;border-left: 1px solid gray;box-sizing: border-box;top: 0;bottom: 0;left: 50%;z-index: 0;}#sk-container-id-1 div.sk-serial {display: flex;flex-direction: column;align-items: center;background-color: white;padding-right: 0.2em;padding-left: 0.2em;position: relative;}#sk-container-id-1 div.sk-item {position: relative;z-index: 1;}#sk-container-id-1 div.sk-parallel {display: flex;align-items: stretch;justify-content: center;background-color: white;position: relative;}#sk-container-id-1 div.sk-item::before, #sk-container-id-1 div.sk-parallel-item::before {content: \"\";position: absolute;border-left: 1px solid gray;box-sizing: border-box;top: 0;bottom: 0;left: 50%;z-index: -1;}#sk-container-id-1 div.sk-parallel-item {display: flex;flex-direction: column;z-index: 1;position: relative;background-color: white;}#sk-container-id-1 div.sk-parallel-item:first-child::after {align-self: flex-end;width: 50%;}#sk-container-id-1 div.sk-parallel-item:last-child::after {align-self: flex-start;width: 50%;}#sk-container-id-1 div.sk-parallel-item:only-child::after {width: 0;}#sk-container-id-1 div.sk-dashed-wrapped {border: 1px dashed gray;margin: 0 0.4em 0.5em 0.4em;box-sizing: border-box;padding-bottom: 0.4em;background-color: white;}#sk-container-id-1 div.sk-label label {font-family: monospace;font-weight: bold;display: inline-block;line-height: 1.2em;}#sk-container-id-1 div.sk-label-container {text-align: center;}#sk-container-id-1 div.sk-container {/* jupyter's `normalize.less` sets `[hidden] { display: none; }` but bootstrap.min.css set `[hidden] { display: none !important; }` so we also need the `!important` here to be able to override the default hidden behavior on the sphinx rendered scikit-learn.org. See: https://github.com/scikit-learn/scikit-learn/issues/21755 */display: inline-block !important;position: relative;}#sk-container-id-1 div.sk-text-repr-fallback {display: none;}</style><div id=\"sk-container-id-1\" class=\"sk-top-container\"><div class=\"sk-text-repr-fallback\"><pre>LinearRegression()</pre><b>In a Jupyter environment, please rerun this cell to show the HTML representation or trust the notebook. <br />On GitHub, the HTML representation is unable to render, please try loading this page with nbviewer.org.</b></div><div class=\"sk-container\" hidden><div class=\"sk-item\"><div class=\"sk-estimator sk-toggleable\"><input class=\"sk-toggleable__control sk-hidden--visually\" id=\"sk-estimator-id-1\" type=\"checkbox\" checked><label for=\"sk-estimator-id-1\" class=\"sk-toggleable__label sk-toggleable__label-arrow\">LinearRegression</label><div class=\"sk-toggleable__content\"><pre>LinearRegression()</pre></div></div></div></div></div>"
      ],
      "text/plain": [
       "LinearRegression()"
      ]
     },
     "execution_count": 18,
     "metadata": {},
     "output_type": "execute_result"
    }
   ],
   "source": [
    "OLS.fit(X_train, y_train)"
   ]
  },
  {
   "cell_type": "code",
   "execution_count": 19,
   "id": "24126753",
   "metadata": {},
   "outputs": [
    {
     "name": "stdout",
     "output_type": "stream",
     "text": [
      "OLS.intercept_: -102.08793713378373\n",
      "OLS.coef_: [ 9.38933638e-01  6.58898218e-01 -2.80035419e-01 -1.99594308e-05\n",
      "  9.82307771e-08]\n"
     ]
    }
   ],
   "source": [
    "print(\"OLS.intercept_:\", OLS.intercept_)\n",
    "print(\"OLS.coef_:\", OLS.coef_)"
   ]
  },
  {
   "cell_type": "code",
   "execution_count": 20,
   "id": "0cfeb06b",
   "metadata": {},
   "outputs": [],
   "source": [
    "#obtain dictionary mapping column name with corresponding coefficient\n",
    "d = {X.columns[i]:OLS.coef_[i] for i in range(0, len(OLS.coef_))}"
   ]
  },
  {
   "cell_type": "code",
   "execution_count": 21,
   "id": "9202888a",
   "metadata": {},
   "outputs": [
    {
     "data": {
      "text/plain": [
       "BID         9.389336e-01\n",
       "ASK         6.588982e-01\n",
       "SPREAD     -2.800354e-01\n",
       "VOLUME     -1.995943e-05\n",
       "TURNOVER    9.823078e-08\n",
       "dtype: float64"
      ]
     },
     "execution_count": 21,
     "metadata": {},
     "output_type": "execute_result"
    }
   ],
   "source": [
    "s = pd.Series(d)\n",
    "s"
   ]
  },
  {
   "cell_type": "code",
   "execution_count": 22,
   "id": "df4ee932",
   "metadata": {},
   "outputs": [
    {
     "data": {
      "text/plain": [
       "(3523,)"
      ]
     },
     "execution_count": 22,
     "metadata": {},
     "output_type": "execute_result"
    }
   ],
   "source": [
    "y_pred = OLS.predict(X_test)\n",
    "y_pred.shape"
   ]
  },
  {
   "cell_type": "code",
   "execution_count": 28,
   "id": "74cd6a55",
   "metadata": {},
   "outputs": [
    {
     "name": "stdout",
     "output_type": "stream",
     "text": [
      "Training set score: 0.6683\n",
      "Test set score: 0.6740\n"
     ]
    }
   ],
   "source": [
    "#scores correspond to R^2. Discussed more below\n",
    "print(\"Training set score: {:.4f}\".format(OLS.score(X_train, y_train)))\n",
    "print(\"Test set score: {:.4f}\".format(OLS.score(X_test, y_test)))"
   ]
  },
  {
   "cell_type": "markdown",
   "id": "90d3b210",
   "metadata": {},
   "source": [
    "#### From what I am understanding, the equation is as follows to predict AMZN stock price:\n",
    "<ul>Assume closing price for all.\n",
    "</ul>\n",
    "    AAPL = (BID*0.9389336)+(ASK*0.6588982)+(SPREAD*-0.2800354)+(VOLUME*-0.00001995943)+(TURNOVER*0.00000009823078)-102.087937 \n",
    "<ul>\n",
    "    248.58 vs. 207.72 (6/24/2024 open)\n",
    "    </ul>\n"
   ]
  },
  {
   "cell_type": "markdown",
   "id": "adb86eeb",
   "metadata": {},
   "source": [
    "### Overall, for how bad the training and test score was, the result isn't as bad as it could have been."
   ]
  }
 ],
 "metadata": {
  "kernelspec": {
   "display_name": "Python 3 (ipykernel)",
   "language": "python",
   "name": "python3"
  },
  "language_info": {
   "codemirror_mode": {
    "name": "ipython",
    "version": 3
   },
   "file_extension": ".py",
   "mimetype": "text/x-python",
   "name": "python",
   "nbconvert_exporter": "python",
   "pygments_lexer": "ipython3",
   "version": "3.10.13"
  },
  "toc": {
   "base_numbering": 1,
   "nav_menu": {},
   "number_sections": true,
   "sideBar": true,
   "skip_h1_title": false,
   "title_cell": "Table of Contents",
   "title_sidebar": "Contents",
   "toc_cell": false,
   "toc_position": {},
   "toc_section_display": true,
   "toc_window_display": false
  }
 },
 "nbformat": 4,
 "nbformat_minor": 5
}
