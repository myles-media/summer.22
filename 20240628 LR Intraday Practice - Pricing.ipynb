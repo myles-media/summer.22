{
 "cells": [
  {
   "cell_type": "code",
   "execution_count": 23,
   "metadata": {},
   "outputs": [],
   "source": [
    "import pandas as pd\n",
    "import numpy as np\n",
    "from sklearn.model_selection import train_test_split\n",
    "from sklearn.preprocessing import StandardScaler\n",
    "from sklearn.linear_model import LinearRegression\n",
    "from sklearn.ensemble import RandomForestRegressor\n",
    "from sklearn.metrics import mean_absolute_error, mean_squared_error, r2_score\n",
    "import matplotlib.pyplot as plt\n",
    "from IPython.display import display"
   ]
  },
  {
   "cell_type": "code",
   "execution_count": 24,
   "metadata": {},
   "outputs": [],
   "source": [
    "# Load data\n",
    "data = pd.read_excel('AAPL_intraday_data.xlsx', parse_dates=['Dates'])\n",
    "\n",
    "# Feature Engineering\n",
    "data['Mid Price'] = (data['Bid Price'] + data['Ask Price']) / 2\n",
    "data['Log Return'] = np.log(data['Last Price'] / data['Last Price'].shift(1))\n",
    "\n",
    "# Drop NaN values from Log Return calculation\n",
    "data = data.dropna()\n",
    "\n",
    "# Add lag features\n",
    "for lag in range(1, 6):\n",
    "    data[f'Lag_{lag}'] = data['Last Price'].shift(lag)\n",
    "\n",
    "# Drop NaN values created by lag features\n",
    "data = data.dropna()"
   ]
  },
  {
   "cell_type": "code",
   "execution_count": 25,
   "metadata": {},
   "outputs": [],
   "source": [
    "# Train-test split\n",
    "train_data, test_data = train_test_split(data, test_size=0.2, shuffle=False)\n",
    "\n",
    "# Prepare final datasets\n",
    "X_train = train_data[['Volume', 'Bid Price', 'Ask Price', 'Bid-Ask Spread', 'Turnover']]\n",
    "y_train = train_data['Last Price']\n",
    "X_test = test_data[['Volume', 'Bid Price', 'Ask Price', 'Bid-Ask Spread', 'Turnover']]\n",
    "y_test = test_data['Last Price']\n",
    "\n",
    "# Model Training\n",
    "lr_model = LinearRegression()\n",
    "lr_model.fit(X_train, y_train)\n",
    "\n",
    "rf_model = RandomForestRegressor(n_estimators=100)\n",
    "rf_model.fit(X_train, y_train)\n",
    "\n",
    "# Predictions\n",
    "lr_predictions = lr_model.predict(X_test)\n",
    "rf_predictions = rf_model.predict(X_test)\n",
    "\n",
    "# Evaluation\n",
    "lr_mae = mean_absolute_error(y_test, lr_predictions)\n",
    "lr_rmse = np.sqrt(mean_squared_error(y_test, lr_predictions))\n",
    "lr_r2 = r2_score(y_test, lr_predictions)\n",
    "\n",
    "rf_mae = mean_absolute_error(y_test, rf_predictions)\n",
    "rf_rmse = np.sqrt(mean_squared_error(y_test, rf_predictions))\n",
    "rf_r2 = r2_score(y_test, rf_predictions)\n",
    "\n"
   ]
  },
  {
   "cell_type": "code",
   "execution_count": 26,
   "metadata": {},
   "outputs": [
    {
     "name": "stdout",
     "output_type": "stream",
     "text": [
      "Linear Regression Model Performance:\n",
      "Mean Absolute Error (MAE): 16.1775\n",
      "Root Mean Squared Error (RMSE): 19.4043\n",
      "R-squared (R2): -42.8038\n",
      "\n",
      "Random Forest Model Performance:\n",
      "Mean Absolute Error (MAE): 17.3909\n",
      "Root Mean Squared Error (RMSE): 17.7007\n",
      "R-squared (R2): -35.4500\n",
      "\n",
      "The Random Forest model performed better than the Linear Regression model.\n",
      "This is because it has a higher R-squared value, indicating it explains more of the variance in the stock prices.\n",
      "It also has lower MAE and RMSE values, suggesting it makes more accurate predictions on average.\n"
     ]
    }
   ],
   "source": [
    "# Print evaluation metrics\n",
    "print(\"Linear Regression Model Performance:\")\n",
    "print(f\"Mean Absolute Error (MAE): {lr_mae:.4f}\")\n",
    "print(f\"Root Mean Squared Error (RMSE): {lr_rmse:.4f}\")\n",
    "print(f\"R-squared (R2): {lr_r2:.4f}\")\n",
    "print()\n",
    "print(\"Random Forest Model Performance:\")\n",
    "print(f\"Mean Absolute Error (MAE): {rf_mae:.4f}\")\n",
    "print(f\"Root Mean Squared Error (RMSE): {rf_rmse:.4f}\")\n",
    "print(f\"R-squared (R2): {rf_r2:.4f}\")\n",
    "print()\n",
    "\n",
    "# Compare models and print the better one\n",
    "if lr_r2 > rf_r2:\n",
    "    print(\"The Linear Regression model performed better than the Random Forest model.\")\n",
    "    print(\"This is because it has a higher R-squared value, indicating it explains more of the variance in the stock prices.\")\n",
    "    print(\"It also has lower MAE and RMSE values, suggesting it makes more accurate predictions on average.\")\n",
    "else:\n",
    "    print(\"The Random Forest model performed better than the Linear Regression model.\")\n",
    "    print(\"This is because it has a higher R-squared value, indicating it explains more of the variance in the stock prices.\")\n",
    "    print(\"It also has lower MAE and RMSE values, suggesting it makes more accurate predictions on average.\")"
   ]
  },
  {
   "cell_type": "code",
   "execution_count": 27,
   "metadata": {},
   "outputs": [
    {
     "data": {
      "text/html": [
       "<div>\n",
       "<style scoped>\n",
       "    .dataframe tbody tr th:only-of-type {\n",
       "        vertical-align: middle;\n",
       "    }\n",
       "\n",
       "    .dataframe tbody tr th {\n",
       "        vertical-align: top;\n",
       "    }\n",
       "\n",
       "    .dataframe thead th {\n",
       "        text-align: right;\n",
       "    }\n",
       "</style>\n",
       "<table border=\"1\" class=\"dataframe\">\n",
       "  <thead>\n",
       "    <tr style=\"text-align: right;\">\n",
       "      <th></th>\n",
       "      <th>Date</th>\n",
       "      <th>Time</th>\n",
       "      <th>Actual Price</th>\n",
       "      <th>Linear Regression Prediction</th>\n",
       "      <th>Random Forest Prediction</th>\n",
       "      <th>Random Forest Error</th>\n",
       "      <th>Linear Regression Error</th>\n",
       "    </tr>\n",
       "  </thead>\n",
       "  <tbody>\n",
       "    <tr>\n",
       "      <th>14089</th>\n",
       "      <td>06/21/2024</td>\n",
       "      <td>16:29:00</td>\n",
       "      <td>207.49</td>\n",
       "      <td>196.019182</td>\n",
       "      <td>195.55216</td>\n",
       "      <td>11.93784</td>\n",
       "      <td>11.470818</td>\n",
       "    </tr>\n",
       "  </tbody>\n",
       "</table>\n",
       "</div>"
      ],
      "text/plain": [
       "             Date      Time  Actual Price  Linear Regression Prediction  \\\n",
       "14089  06/21/2024  16:29:00        207.49                    196.019182   \n",
       "\n",
       "       Random Forest Prediction  Random Forest Error  Linear Regression Error  \n",
       "14089                 195.55216             11.93784                11.470818  "
      ]
     },
     "metadata": {},
     "output_type": "display_data"
    }
   ],
   "source": [
    "# Extract data for the first date in the test set\n",
    "first_test_date = test_data['Dates'].max()\n",
    "first_test_day_data = test_data[test_data['Dates'] == first_test_date]\n",
    "\n",
    "\n",
    "# Prepare the dataset for prediction\n",
    "X_first_test_day = first_test_day_data[['Volume', 'Bid Price', 'Ask Price', 'Bid-Ask Spread', 'Turnover']]\n",
    "y_first_test_day = first_test_day_data['Last Price']\n",
    "\n",
    "# Predict using both models\n",
    "lr_first_test_day_predictions = lr_model.predict(X_first_test_day)\n",
    "rf_first_test_day_predictions = rf_model.predict(X_first_test_day)\n",
    "\n",
    "# Combine the actual and predicted prices in a DataFrame\n",
    "results_df = pd.DataFrame({\n",
    "    'Date': first_test_day_data['Dates'].dt.strftime('%m/%d/%Y'),\n",
    "    'Time': first_test_day_data['Dates'].dt.strftime('%H:%M:%S'),\n",
    "    'Actual Price': y_first_test_day,\n",
    "    'Linear Regression Prediction': lr_first_test_day_predictions,\n",
    "    'Random Forest Prediction': rf_first_test_day_predictions,\n",
    "    'Random Forest Error': y_first_test_day - rf_first_test_day_predictions,\n",
    "    'Linear Regression Error': y_first_test_day - lr_first_test_day_predictions\n",
    "})\n",
    "\n",
    "# Display the results in a tabular format\n",
    "display(results_df)"
   ]
  },
  {
   "cell_type": "code",
   "execution_count": null,
   "metadata": {},
   "outputs": [],
   "source": []
  }
 ],
 "metadata": {
  "kernelspec": {
   "display_name": "Python 3",
   "language": "python",
   "name": "python3"
  },
  "language_info": {
   "codemirror_mode": {
    "name": "ipython",
    "version": 3
   },
   "file_extension": ".py",
   "mimetype": "text/x-python",
   "name": "python",
   "nbconvert_exporter": "python",
   "pygments_lexer": "ipython3",
   "version": "3.9.7"
  }
 },
 "nbformat": 4,
 "nbformat_minor": 2
}
